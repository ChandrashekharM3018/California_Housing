{
 "cells": [
  {
   "cell_type": "code",
   "execution_count": 1,
   "metadata": {},
   "outputs": [],
   "source": [
    "import numpy as np\n",
    "import pandas as pd\n",
    "import matplotlib.pyplot as plt\n",
    "%matplotlib inline"
   ]
  },
  {
   "cell_type": "code",
   "execution_count": 2,
   "metadata": {},
   "outputs": [
    {
     "name": "stderr",
     "output_type": "stream",
     "text": [
      "C:\\Users\\CHANDRU\\anaconda3\\lib\\site-packages\\tensorflow\\python\\framework\\dtypes.py:516: FutureWarning: Passing (type, 1) or '1type' as a synonym of type is deprecated; in a future version of numpy, it will be understood as (type, (1,)) / '(1,)type'.\n",
      "  _np_qint8 = np.dtype([(\"qint8\", np.int8, 1)])\n",
      "C:\\Users\\CHANDRU\\anaconda3\\lib\\site-packages\\tensorflow\\python\\framework\\dtypes.py:517: FutureWarning: Passing (type, 1) or '1type' as a synonym of type is deprecated; in a future version of numpy, it will be understood as (type, (1,)) / '(1,)type'.\n",
      "  _np_quint8 = np.dtype([(\"quint8\", np.uint8, 1)])\n",
      "C:\\Users\\CHANDRU\\anaconda3\\lib\\site-packages\\tensorflow\\python\\framework\\dtypes.py:518: FutureWarning: Passing (type, 1) or '1type' as a synonym of type is deprecated; in a future version of numpy, it will be understood as (type, (1,)) / '(1,)type'.\n",
      "  _np_qint16 = np.dtype([(\"qint16\", np.int16, 1)])\n",
      "C:\\Users\\CHANDRU\\anaconda3\\lib\\site-packages\\tensorflow\\python\\framework\\dtypes.py:519: FutureWarning: Passing (type, 1) or '1type' as a synonym of type is deprecated; in a future version of numpy, it will be understood as (type, (1,)) / '(1,)type'.\n",
      "  _np_quint16 = np.dtype([(\"quint16\", np.uint16, 1)])\n",
      "C:\\Users\\CHANDRU\\anaconda3\\lib\\site-packages\\tensorflow\\python\\framework\\dtypes.py:520: FutureWarning: Passing (type, 1) or '1type' as a synonym of type is deprecated; in a future version of numpy, it will be understood as (type, (1,)) / '(1,)type'.\n",
      "  _np_qint32 = np.dtype([(\"qint32\", np.int32, 1)])\n",
      "C:\\Users\\CHANDRU\\anaconda3\\lib\\site-packages\\tensorflow\\python\\framework\\dtypes.py:525: FutureWarning: Passing (type, 1) or '1type' as a synonym of type is deprecated; in a future version of numpy, it will be understood as (type, (1,)) / '(1,)type'.\n",
      "  np_resource = np.dtype([(\"resource\", np.ubyte, 1)])\n",
      "C:\\Users\\CHANDRU\\anaconda3\\lib\\site-packages\\tensorboard\\compat\\tensorflow_stub\\dtypes.py:541: FutureWarning: Passing (type, 1) or '1type' as a synonym of type is deprecated; in a future version of numpy, it will be understood as (type, (1,)) / '(1,)type'.\n",
      "  _np_qint8 = np.dtype([(\"qint8\", np.int8, 1)])\n",
      "C:\\Users\\CHANDRU\\anaconda3\\lib\\site-packages\\tensorboard\\compat\\tensorflow_stub\\dtypes.py:542: FutureWarning: Passing (type, 1) or '1type' as a synonym of type is deprecated; in a future version of numpy, it will be understood as (type, (1,)) / '(1,)type'.\n",
      "  _np_quint8 = np.dtype([(\"quint8\", np.uint8, 1)])\n",
      "C:\\Users\\CHANDRU\\anaconda3\\lib\\site-packages\\tensorboard\\compat\\tensorflow_stub\\dtypes.py:543: FutureWarning: Passing (type, 1) or '1type' as a synonym of type is deprecated; in a future version of numpy, it will be understood as (type, (1,)) / '(1,)type'.\n",
      "  _np_qint16 = np.dtype([(\"qint16\", np.int16, 1)])\n",
      "C:\\Users\\CHANDRU\\anaconda3\\lib\\site-packages\\tensorboard\\compat\\tensorflow_stub\\dtypes.py:544: FutureWarning: Passing (type, 1) or '1type' as a synonym of type is deprecated; in a future version of numpy, it will be understood as (type, (1,)) / '(1,)type'.\n",
      "  _np_quint16 = np.dtype([(\"quint16\", np.uint16, 1)])\n",
      "C:\\Users\\CHANDRU\\anaconda3\\lib\\site-packages\\tensorboard\\compat\\tensorflow_stub\\dtypes.py:545: FutureWarning: Passing (type, 1) or '1type' as a synonym of type is deprecated; in a future version of numpy, it will be understood as (type, (1,)) / '(1,)type'.\n",
      "  _np_qint32 = np.dtype([(\"qint32\", np.int32, 1)])\n",
      "C:\\Users\\CHANDRU\\anaconda3\\lib\\site-packages\\tensorboard\\compat\\tensorflow_stub\\dtypes.py:550: FutureWarning: Passing (type, 1) or '1type' as a synonym of type is deprecated; in a future version of numpy, it will be understood as (type, (1,)) / '(1,)type'.\n",
      "  np_resource = np.dtype([(\"resource\", np.ubyte, 1)])\n"
     ]
    }
   ],
   "source": [
    "import tensorflow as tf\n",
    "from tensorflow import keras"
   ]
  },
  {
   "cell_type": "code",
   "execution_count": 3,
   "metadata": {},
   "outputs": [],
   "source": [
    "from sklearn.datasets import fetch_california_housing\n",
    "housing = fetch_california_housing()"
   ]
  },
  {
   "cell_type": "code",
   "execution_count": 4,
   "metadata": {},
   "outputs": [
    {
     "name": "stdout",
     "output_type": "stream",
     "text": [
      ".. _california_housing_dataset:\n",
      "\n",
      "California Housing dataset\n",
      "--------------------------\n",
      "\n",
      "**Data Set Characteristics:**\n",
      "\n",
      "    :Number of Instances: 20640\n",
      "\n",
      "    :Number of Attributes: 8 numeric, predictive attributes and the target\n",
      "\n",
      "    :Attribute Information:\n",
      "        - MedInc        median income in block\n",
      "        - HouseAge      median house age in block\n",
      "        - AveRooms      average number of rooms\n",
      "        - AveBedrms     average number of bedrooms\n",
      "        - Population    block population\n",
      "        - AveOccup      average house occupancy\n",
      "        - Latitude      house block latitude\n",
      "        - Longitude     house block longitude\n",
      "\n",
      "    :Missing Attribute Values: None\n",
      "\n",
      "This dataset was obtained from the StatLib repository.\n",
      "http://lib.stat.cmu.edu/datasets/\n",
      "\n",
      "The target variable is the median house value for California districts.\n",
      "\n",
      "This dataset was derived from the 1990 U.S. census, using one row per census\n",
      "block group. A block group is the smallest geographical unit for which the U.S.\n",
      "Census Bureau publishes sample data (a block group typically has a population\n",
      "of 600 to 3,000 people).\n",
      "\n",
      "It can be downloaded/loaded using the\n",
      ":func:`sklearn.datasets.fetch_california_housing` function.\n",
      "\n",
      ".. topic:: References\n",
      "\n",
      "    - Pace, R. Kelley and Ronald Barry, Sparse Spatial Autoregressions,\n",
      "      Statistics and Probability Letters, 33 (1997) 291-297\n",
      "\n"
     ]
    }
   ],
   "source": [
    "print(housing.DESCR)"
   ]
  },
  {
   "cell_type": "code",
   "execution_count": 5,
   "metadata": {},
   "outputs": [
    {
     "name": "stdout",
     "output_type": "stream",
     "text": [
      "['MedInc', 'HouseAge', 'AveRooms', 'AveBedrms', 'Population', 'AveOccup', 'Latitude', 'Longitude']\n"
     ]
    }
   ],
   "source": [
    "print(housing.feature_names)"
   ]
  },
  {
   "cell_type": "code",
   "execution_count": 6,
   "metadata": {},
   "outputs": [],
   "source": [
    "from sklearn.model_selection import train_test_split\n",
    "X_train_full, X_test, y_train_full, y_test = train_test_split(housing.data, housing.target, random_state=42)\n",
    "X_train, X_valid, y_train, y_valid = train_test_split(X_train_full, y_train_full, random_state=42)"
   ]
  },
  {
   "cell_type": "code",
   "execution_count": 7,
   "metadata": {},
   "outputs": [],
   "source": [
    "from sklearn.preprocessing import StandardScaler\n",
    "scaler =  StandardScaler()\n",
    "X_train = scaler.fit_transform(X_train)\n",
    "X_valid = scaler.fit_transform(X_valid)\n",
    "X_test =  scaler.fit_transform(X_test)"
   ]
  },
  {
   "cell_type": "code",
   "execution_count": 8,
   "metadata": {},
   "outputs": [
    {
     "name": "stdout",
     "output_type": "stream",
     "text": [
      "(11610, 8)\n",
      "(3870, 8)\n",
      "(5160, 8)\n"
     ]
    }
   ],
   "source": [
    "print(X_train.shape)\n",
    "print(X_valid.shape)\n",
    "print(X_test.shape)"
   ]
  },
  {
   "cell_type": "code",
   "execution_count": 9,
   "metadata": {},
   "outputs": [
    {
     "name": "stdout",
     "output_type": "stream",
     "text": [
      "WARNING:tensorflow:From C:\\Users\\CHANDRU\\anaconda3\\lib\\site-packages\\tensorflow\\python\\ops\\init_ops.py:1251: calling VarianceScaling.__init__ (from tensorflow.python.ops.init_ops) with dtype is deprecated and will be removed in a future version.\n",
      "Instructions for updating:\n",
      "Call initializer instance with the dtype argument instead of passing it to the constructor\n"
     ]
    }
   ],
   "source": [
    "model = keras.models.Sequential([\n",
    "    keras.layers.Dense(30, activation=\"relu\",input_shape =[8]),\n",
    "    keras.layers.Dense(30, activation=\"relu\"),\n",
    "    keras.layers.Dense(1)\n",
    "])"
   ]
  },
  {
   "cell_type": "code",
   "execution_count": 10,
   "metadata": {},
   "outputs": [
    {
     "name": "stdout",
     "output_type": "stream",
     "text": [
      "Model: \"sequential\"\n",
      "_________________________________________________________________\n",
      "Layer (type)                 Output Shape              Param #   \n",
      "=================================================================\n",
      "dense (Dense)                (None, 30)                270       \n",
      "_________________________________________________________________\n",
      "dense_1 (Dense)              (None, 30)                930       \n",
      "_________________________________________________________________\n",
      "dense_2 (Dense)              (None, 1)                 31        \n",
      "=================================================================\n",
      "Total params: 1,231\n",
      "Trainable params: 1,231\n",
      "Non-trainable params: 0\n",
      "_________________________________________________________________\n"
     ]
    }
   ],
   "source": [
    "model.summary()"
   ]
  },
  {
   "cell_type": "code",
   "execution_count": 11,
   "metadata": {},
   "outputs": [],
   "source": [
    "model.compile(loss='mean_squared_error',optimizer=keras.optimizers.SGD(lr=1e-3),metrics=['mae'])"
   ]
  },
  {
   "cell_type": "code",
   "execution_count": 16,
   "metadata": {},
   "outputs": [
    {
     "name": "stdout",
     "output_type": "stream",
     "text": [
      "Train on 11610 samples, validate on 3870 samples\n",
      "Epoch 1/20\n",
      "11610/11610 [==============================] - 1s 106us/sample - loss: 0.4190 - mean_absolute_error: 0.4695 - val_loss: 0.4630 - val_mean_absolute_error: 0.5018\n",
      "Epoch 2/20\n",
      "11610/11610 [==============================] - 2s 139us/sample - loss: 0.4142 - mean_absolute_error: 0.4661 - val_loss: 0.4622 - val_mean_absolute_error: 0.4987\n",
      "Epoch 3/20\n",
      "11610/11610 [==============================] - 1s 99us/sample - loss: 0.4104 - mean_absolute_error: 0.4639 - val_loss: 0.4575 - val_mean_absolute_error: 0.4952\n",
      "Epoch 4/20\n",
      "11610/11610 [==============================] - 1s 93us/sample - loss: 0.4065 - mean_absolute_error: 0.4612 - val_loss: 0.4544 - val_mean_absolute_error: 0.4953\n",
      "Epoch 5/20\n",
      "11610/11610 [==============================] - 1s 73us/sample - loss: 0.4028 - mean_absolute_error: 0.4586 - val_loss: 0.4520 - val_mean_absolute_error: 0.4942\n",
      "Epoch 6/20\n",
      "11610/11610 [==============================] - 1s 81us/sample - loss: 0.3994 - mean_absolute_error: 0.4570 - val_loss: 0.4479 - val_mean_absolute_error: 0.4892\n",
      "Epoch 7/20\n",
      "11610/11610 [==============================] - 1s 89us/sample - loss: 0.3964 - mean_absolute_error: 0.4547 - val_loss: 0.4451 - val_mean_absolute_error: 0.4867\n",
      "Epoch 8/20\n",
      "11610/11610 [==============================] - 1s 103us/sample - loss: 0.3935 - mean_absolute_error: 0.4525 - val_loss: 0.4457 - val_mean_absolute_error: 0.4860\n",
      "Epoch 9/20\n",
      "11610/11610 [==============================] - 1s 122us/sample - loss: 0.3908 - mean_absolute_error: 0.4508 - val_loss: 0.4432 - val_mean_absolute_error: 0.4852\n",
      "Epoch 10/20\n",
      "11610/11610 [==============================] - 1s 74us/sample - loss: 0.3883 - mean_absolute_error: 0.4492 - val_loss: 0.4401 - val_mean_absolute_error: 0.4819\n",
      "Epoch 11/20\n",
      "11610/11610 [==============================] - 1s 77us/sample - loss: 0.3859 - mean_absolute_error: 0.4472 - val_loss: 0.4393 - val_mean_absolute_error: 0.4829\n",
      "Epoch 12/20\n",
      "11610/11610 [==============================] - 1s 74us/sample - loss: 0.3837 - mean_absolute_error: 0.4461 - val_loss: 0.4390 - val_mean_absolute_error: 0.4812\n",
      "Epoch 13/20\n",
      "11610/11610 [==============================] - 1s 106us/sample - loss: 0.3817 - mean_absolute_error: 0.4440 - val_loss: 0.4381 - val_mean_absolute_error: 0.4833\n",
      "Epoch 14/20\n",
      "11610/11610 [==============================] - 1s 98us/sample - loss: 0.3800 - mean_absolute_error: 0.4437 - val_loss: 0.4365 - val_mean_absolute_error: 0.4788\n",
      "Epoch 15/20\n",
      "11610/11610 [==============================] - 1s 72us/sample - loss: 0.3781 - mean_absolute_error: 0.4419 - val_loss: 0.4340 - val_mean_absolute_error: 0.4784\n",
      "Epoch 16/20\n",
      "11610/11610 [==============================] - 1s 77us/sample - loss: 0.3765 - mean_absolute_error: 0.4410 - val_loss: 0.4339 - val_mean_absolute_error: 0.4745\n",
      "Epoch 17/20\n",
      "11610/11610 [==============================] - 1s 106us/sample - loss: 0.3746 - mean_absolute_error: 0.4390 - val_loss: 0.4347 - val_mean_absolute_error: 0.4782\n",
      "Epoch 18/20\n",
      "11610/11610 [==============================] - 1s 108us/sample - loss: 0.3735 - mean_absolute_error: 0.4388 - val_loss: 0.4329 - val_mean_absolute_error: 0.4777\n",
      "Epoch 19/20\n",
      "11610/11610 [==============================] - 1s 74us/sample - loss: 0.3719 - mean_absolute_error: 0.4377 - val_loss: 0.4315 - val_mean_absolute_error: 0.4779\n",
      "Epoch 20/20\n",
      "11610/11610 [==============================] - 1s 78us/sample - loss: 0.3704 - mean_absolute_error: 0.4370 - val_loss: 0.4299 - val_mean_absolute_error: 0.4711\n"
     ]
    }
   ],
   "source": [
    "model_history = model.fit(X_train, y_train, epochs=20, validation_data=(X_valid,y_valid))"
   ]
  },
  {
   "cell_type": "code",
   "execution_count": 17,
   "metadata": {},
   "outputs": [
    {
     "name": "stdout",
     "output_type": "stream",
     "text": [
      "5160/5160 [==============================] - 0s 29us/sample - loss: 0.3937 - mean_absolute_error: 0.4587\n"
     ]
    }
   ],
   "source": [
    "mea_test = model.evaluate(X_test,y_test)"
   ]
  },
  {
   "cell_type": "code",
   "execution_count": 18,
   "metadata": {},
   "outputs": [
    {
     "data": {
      "text/plain": [
       "{'loss': [0.41895386531474155,\n",
       "  0.4142366628160156,\n",
       "  0.4103622191020069,\n",
       "  0.40652797300942906,\n",
       "  0.4028231094614583,\n",
       "  0.3993874503095842,\n",
       "  0.3963642634932693,\n",
       "  0.3935218657172003,\n",
       "  0.39080917256644426,\n",
       "  0.38831016847945615,\n",
       "  0.3858910776231948,\n",
       "  0.3836900409185917,\n",
       "  0.38174470157894363,\n",
       "  0.37999745118114886,\n",
       "  0.3781336701552895,\n",
       "  0.3764576530502748,\n",
       "  0.37456077848088626,\n",
       "  0.37345219589737755,\n",
       "  0.3718843396217221,\n",
       "  0.3703763239451465],\n",
       " 'mean_absolute_error': [0.46947598,\n",
       "  0.46614257,\n",
       "  0.46392235,\n",
       "  0.4611883,\n",
       "  0.45863155,\n",
       "  0.45698106,\n",
       "  0.45471615,\n",
       "  0.45247614,\n",
       "  0.45077258,\n",
       "  0.44919577,\n",
       "  0.4472345,\n",
       "  0.44614792,\n",
       "  0.44400135,\n",
       "  0.4437132,\n",
       "  0.44190055,\n",
       "  0.44104558,\n",
       "  0.43902537,\n",
       "  0.43883753,\n",
       "  0.43772522,\n",
       "  0.43704414],\n",
       " 'val_loss': [0.46303862418007175,\n",
       "  0.4622278124941104,\n",
       "  0.4575389070874345,\n",
       "  0.45437912469686464,\n",
       "  0.4520080731204622,\n",
       "  0.44787899812524634,\n",
       "  0.4451036079755433,\n",
       "  0.44567226977003327,\n",
       "  0.44316089843286716,\n",
       "  0.4401310720955063,\n",
       "  0.43933015878502407,\n",
       "  0.4389652692840389,\n",
       "  0.43809371268718433,\n",
       "  0.4364992657681152,\n",
       "  0.43404501154441244,\n",
       "  0.4338667272905355,\n",
       "  0.43473779075521524,\n",
       "  0.4328665752897583,\n",
       "  0.4315429433063635,\n",
       "  0.42990653383947464],\n",
       " 'val_mean_absolute_error': [0.50179857,\n",
       "  0.4986599,\n",
       "  0.495247,\n",
       "  0.49533764,\n",
       "  0.49420503,\n",
       "  0.48917055,\n",
       "  0.48670074,\n",
       "  0.48596516,\n",
       "  0.48519754,\n",
       "  0.48194873,\n",
       "  0.48286724,\n",
       "  0.48115116,\n",
       "  0.48329183,\n",
       "  0.47875556,\n",
       "  0.47836798,\n",
       "  0.47452933,\n",
       "  0.4782213,\n",
       "  0.47765145,\n",
       "  0.47789207,\n",
       "  0.47108176]}"
      ]
     },
     "execution_count": 18,
     "metadata": {},
     "output_type": "execute_result"
    }
   ],
   "source": [
    "model_history.history"
   ]
  },
  {
   "cell_type": "code",
   "execution_count": 19,
   "metadata": {},
   "outputs": [
    {
     "data": {
      "image/png": "[encoded data removed]",
      "text/plain": [
       "<Figure size 576x360 with 1 Axes>"
      ]
     },
     "metadata": {
      "needs_background": "light"
     },
     "output_type": "display_data"
    }
   ],
   "source": [
    "pd.DataFrame(model_history.history).plot(figsize=(8,5))\n",
    "plt.grid(True)\n",
    "plt.gca().set_ylim(0, 1)\n",
    "plt.show()"
   ]
  },
  {
   "cell_type": "code",
   "execution_count": null,
   "metadata": {},
   "outputs": [],
   "source": []
  }
 ],
 "metadata": {
  "kernelspec": {
   "display_name": "Python 3",
   "language": "python",
   "name": "python3"
  },
  "language_info": {
   "codemirror_mode": {
    "name": "ipython",
    "version": 3
   },
   "file_extension": ".py",
   "mimetype": "text/x-python",
   "name": "python",
   "nbconvert_exporter": "python",
   "pygments_lexer": "ipython3",
   "version": "3.6.10"
  }
 },
 "nbformat": 4,
 "nbformat_minor": 4
}
